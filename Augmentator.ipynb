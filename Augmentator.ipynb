{
 "cells": [
  {
   "cell_type": "code",
   "execution_count": 50,
   "metadata": {},
   "outputs": [
    {
     "name": "stdout",
     "output_type": "stream",
     "text": [
      "Initialised with 1 image(s) found.\n",
      "Output directory set to C:\\Users\\Bruno\\Documents\\Github\\object_detection_demo2\\test\\Augment\\output."
     ]
    }
   ],
   "source": [
    "import Augmentor\n",
    "\n",
    "p = Augmentor.Pipeline(r\"C:\\Users\\Bruno\\Documents\\Github\\object_detection_demo2\\test\\Augment\")\n",
    "#p.ground_truth(r\"C:\\Users\\Bruno\\Documents\\Github\\object_detection_demo2\\test\\Augment\\ground_truth_images\")"
   ]
  },
  {
   "cell_type": "code",
   "execution_count": 53,
   "metadata": {},
   "outputs": [],
   "source": [
    "#p.rotate90(probability=0.5)\n",
    "#p.rotate270(probability=0.5)\n",
    "#p.flip_left_right(probability=0.8)\n",
    "#p.flip_top_bottom(probability=0.3)\n",
    "#p.zoom_random(probability=0.5, percentage_area=0.8)\n",
    "#p.crop_random(probability=1, percentage_area=0.5)\n",
    "p.random_erasing(probability=1,rectangle_area=0.5)\n",
    "#p.random_erasing(probability=1, grid_width=10, grid_height=4, magnitude=8)\n",
    "#p.resize(probability=1.0, width=120, height=120)"
   ]
  },
  {
   "cell_type": "code",
   "execution_count": 54,
   "metadata": {},
   "outputs": [
    {
     "name": "stderr",
     "output_type": "stream",
     "text": [
      "Processing <PIL.JpegImagePlugin.JpegImageFile image mode=RGB size=1920x1080 at 0x2581A435438>: 100%|█| 5/5 [00:00<00:00, 11.03 Samples/s]\n"
     ]
    }
   ],
   "source": [
    "p.sample(5)"
   ]
  }
 ],
 "metadata": {
  "kernelspec": {
   "display_name": "Python 3",
   "language": "python",
   "name": "python3"
  },
  "language_info": {
   "codemirror_mode": {
    "name": "ipython",
    "version": 3
   },
   "file_extension": ".py",
   "mimetype": "text/x-python",
   "name": "python",
   "nbconvert_exporter": "python",
   "pygments_lexer": "ipython3",
   "version": "3.6.0"
  }
 },
 "nbformat": 4,
 "nbformat_minor": 2
}
