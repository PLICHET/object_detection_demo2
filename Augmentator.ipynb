{
 "cells": [
  {
   "cell_type": "code",
   "execution_count": 19,
   "metadata": {},
   "outputs": [],
   "source": [
    "# Script pour transforer les image afin d'augmenter la taille du dataset pour le training\n",
    "#Documentation : https://augmentor.readthedocs.io/en/master/ \n"
   ]
  },
  {
   "cell_type": "code",
   "execution_count": 23,
   "metadata": {
    "scrolled": false
   },
   "outputs": [
    {
     "name": "stdout",
     "output_type": "stream",
     "text": [
      "Initialised with 157 image(s) found.\n",
      "Output directory set to C:\\Users\\SESA67051\\Documents\\Digital Microscope\\40A\\Picture\\resized\\output."
     ]
    }
   ],
   "source": [
    "import Augmentor\n",
    "\n",
    "#p = Augmentor.Pipeline(r\"C:\\Users\\Bruno\\Documents\\Github\\object_detection_demo2\\test\\Augment\")\n",
    "p = Augmentor.Pipeline(r\"C:\\Users\\SESA67051\\Documents\\Digital Microscope\\40A\\Picture\\resized\")\n",
    "#p.ground_truth(r\"C:\\Users\\Bruno\\Documents\\Github\\object_detection_demo2\\test\\Augment\\ground_truth_images\")"
   ]
  },
  {
   "cell_type": "code",
   "execution_count": 24,
   "metadata": {},
   "outputs": [],
   "source": [
    "#Le probabilityparamètre contrôle la fréquence à laquelle l'opération est appliquée. \n",
    "\n",
    "p.rotate(probability=1, max_left_rotation=10, max_right_rotation=10)\n",
    "#p.rotate90(probability=0.5)\n",
    "p.rotate270(probability=0.5)\n",
    "#p.flip_left_right(probability=0.8)\n",
    "p.flip_top_bottom(probability=0.3)\n",
    "#p.zoom_random(probability=0.5, percentage_area=0.8)\n",
    "#p.crop_random(probability=1, percentage_area=0.5)\n",
    "p.random_erasing(probability=1,rectangle_area=0.7)\n",
    "#p.random_erasing(probability=1, grid_width=10, grid_height=4, magnitude=8)\n",
    "#p.resize(probability=1.0, width=120, height=120)"
   ]
  },
  {
   "cell_type": "code",
   "execution_count": 25,
   "metadata": {
    "scrolled": true
   },
   "outputs": [
    {
     "name": "stderr",
     "output_type": "stream",
     "text": [
      "Processing <PIL.Image.Image image mode=RGB size=480x640 at 0x1F1C4A72208>: 100%|█| 157/157 [00:01<00:00, 113.07 Samples\n"
     ]
    }
   ],
   "source": [
    "# Indiquez le nombre d'image qui serront augmentées ici 6\n",
    "p.sample(157)"
   ]
  },
  {
   "cell_type": "code",
   "execution_count": null,
   "metadata": {},
   "outputs": [],
   "source": []
  }
 ],
 "metadata": {
  "kernelspec": {
   "display_name": "Python 3",
   "language": "python",
   "name": "python3"
  },
  "language_info": {
   "codemirror_mode": {
    "name": "ipython",
    "version": 3
   },
   "file_extension": ".py",
   "mimetype": "text/x-python",
   "name": "python",
   "nbconvert_exporter": "python",
   "pygments_lexer": "ipython3",
   "version": "3.6.7"
  }
 },
 "nbformat": 4,
 "nbformat_minor": 2
}
